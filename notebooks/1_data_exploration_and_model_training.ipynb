{
 "cells": [
  {
   "cell_type": "markdown",
   "id": "80392855",
   "metadata": {},
   "source": [
    "# Product Recommendation System: Data Exploration and Model Training\n",
    "\n",
    "This notebook demonstrates the process of building a content-based recommendation system using TF-IDF vectorization and cosine similarity."
   ]
  },
  {
   "cell_type": "code",
   "execution_count": null,
   "id": "2ee366e1",
   "metadata": {},
   "outputs": [],
   "source": [
    "# Import necessary libraries\n",
    "import pandas as pd\n",
    "import numpy as np\n",
    "import matplotlib.pyplot as plt\n",
    "import seaborn as sns\n",
    "from sklearn.feature_extraction.text import TfidfVectorizer\n",
    "from sklearn.metrics.pairwise import cosine_similarity\n",
    "import joblib\n",
    "import os\n",
    "\n",
    "# Set style for visualizations\n",
    "sns.set_style('whitegrid')\n",
    "plt.style.use('seaborn-v0_8-whitegrid')"
   ]
  },
  {
   "cell_type": "markdown",
   "id": "9ef9a1c6",
   "metadata": {},
   "source": [
    "## 1. Data Loading and Exploration"
   ]
  },
  {
   "cell_type": "code",
   "execution_count": null,
   "id": "fa43b67f",
   "metadata": {},
   "outputs": [],
   "source": [
    "# Load the dataset\n",
    "data_path = '../data/generic_dataset.csv'\n",
    "products_df = pd.read_csv(data_path)\n",
    "\n",
    "# Display the first few rows\n",
    "print(f\"Dataset shape: {products_df.shape}\")\n",
    "products_df.head()"
   ]
  },
  {
   "cell_type": "code",
   "execution_count": null,
   "id": "11eb5f89",
   "metadata": {},
   "outputs": [],
   "source": [
    "# Basic data exploration\n",
    "products_df.info()"
   ]
  },
  {
   "cell_type": "code",
   "execution_count": null,
   "id": "68cd7756",
   "metadata": {},
   "outputs": [],
   "source": [
    "# Check for missing values\n",
    "missing_data = products_df.isnull().sum()\n",
    "print(\"Missing values in each column:\")\n",
    "print(missing_data)"
   ]
  },
  {
   "cell_type": "code",
   "execution_count": null,
   "id": "56859bad",
   "metadata": {},
   "outputs": [],
   "source": [
    "# Explore product categories\n",
    "category_counts = products_df['category'].value_counts()\n",
    "print(\"Product categories:\")\n",
    "print(category_counts)\n",
    "\n",
    "# Visualize the distribution\n",
    "plt.figure(figsize=(10, 6))\n",
    "sns.barplot(x=category_counts.index, y=category_counts.values)\n",
    "plt.title('Distribution of Product Categories')\n",
    "plt.xlabel('Category')\n",
    "plt.ylabel('Count')\n",
    "plt.xticks(rotation=45)\n",
    "plt.tight_layout()\n",
    "plt.show()"
   ]
  },
  {
   "cell_type": "markdown",
   "id": "0e1ad3d4",
   "metadata": {},
   "source": [
    "## 2. Data Preparation for Content-Based Filtering"
   ]
  },
  {
   "cell_type": "code",
   "execution_count": null,
   "id": "4c297784",
   "metadata": {},
   "outputs": [],
   "source": [
    "# Combine relevant text features to create a content representation\n",
    "products_df['content'] = products_df['product_name'] + ' ' + products_df['category'] + ' ' + products_df['description']\n",
    "\n",
    "# Display the combined content field\n",
    "products_df[['product_id', 'product_name', 'content']].head()"
   ]
  },
  {
   "cell_type": "markdown",
   "id": "d0eb95cb",
   "metadata": {},
   "source": [
    "## 3. Create TF-IDF Vectors"
   ]
  },
  {
   "cell_type": "code",
   "execution_count": null,
   "id": "ac19cf41",
   "metadata": {},
   "outputs": [],
   "source": [
    "# Create TF-IDF vectorizer\n",
    "tfidf = TfidfVectorizer(stop_words='english')\n",
    "\n",
    "# Fit and transform the content field\n",
    "tfidf_matrix = tfidf.fit_transform(products_df['content'])\n",
    "\n",
    "# Show the TF-IDF matrix shape\n",
    "print(f\"TF-IDF matrix shape: {tfidf_matrix.shape}\")\n",
    "\n",
    "# Get feature names (terms)\n",
    "feature_names = tfidf.get_feature_names_out()\n",
    "print(f\"Number of features (terms): {len(feature_names)}\")\n",
    "print(\"Sample features:\", feature_names[:10])"
   ]
  },
  {
   "cell_type": "markdown",
   "id": "6161aa02",
   "metadata": {},
   "source": [
    "## 4. Calculate Similarity Matrix"
   ]
  },
  {
   "cell_type": "code",
   "execution_count": null,
   "id": "2ed4cef6",
   "metadata": {},
   "outputs": [],
   "source": [
    "# Compute the cosine similarity matrix\n",
    "cosine_sim = cosine_similarity(tfidf_matrix, tfidf_matrix)\n",
    "\n",
    "# Show the similarity matrix shape\n",
    "print(f\"Cosine similarity matrix shape: {cosine_sim.shape}\")\n",
    "\n",
    "# Visualize a portion of the similarity matrix\n",
    "plt.figure(figsize=(10, 8))\n",
    "sns.heatmap(cosine_sim[:5, :5], annot=True, cmap='YlGnBu')\n",
    "plt.title('Cosine Similarity Between First 5 Products')\n",
    "plt.show()"
   ]
  },
  {
   "cell_type": "markdown",
   "id": "5c7c7738",
   "metadata": {},
   "source": [
    "## 5. Test the Recommendation System"
   ]
  },
  {
   "cell_type": "code",
   "execution_count": null,
   "id": "3edf8a1f",
   "metadata": {},
   "outputs": [],
   "source": [
    "# Function to get recommendations\n",
    "def get_recommendations(product_id, cosine_sim=cosine_sim, df=products_df, num_recommendations=5):\n",
    "    # Get index of the product\n",
    "    idx = df[df['product_id'] == product_id].index[0]\n",
    "    \n",
    "    # Get similarity scores for all products with the target product\n",
    "    sim_scores = list(enumerate(cosine_sim[idx]))\n",
    "    \n",
    "    # Sort products based on similarity scores\n",
    "    sim_scores = sorted(sim_scores, key=lambda x: x[1], reverse=True)\n",
    "    \n",
    "    # Get top N most similar products (excluding itself)\n",
    "    sim_scores = sim_scores[1:num_recommendations+1]\n",
    "    \n",
    "    # Get product indices\n",
    "    product_indices = [i[0] for i in sim_scores]\n",
    "    \n",
    "    # Return recommended products\n",
    "    return df.iloc[product_indices][['product_id', 'product_name', 'category']]"
   ]
  },
  {
   "cell_type": "code",
   "execution_count": null,
   "id": "ce3f7582",
   "metadata": {},
   "outputs": [],
   "source": [
    "# Test the recommendation function for a specific product\n",
    "test_product_id = 4  # Wireless Headphones\n",
    "test_product = products_df[products_df['product_id'] == test_product_id].iloc[0]\n",
    "print(f\"Recommendations for {test_product['product_name']} (Category: {test_product['category']}):\\n\")\n",
    "\n",
    "recommendations = get_recommendations(test_product_id)\n",
    "recommendations"
   ]
  },
  {
   "cell_type": "code",
   "execution_count": null,
   "id": "34eefcd1",
   "metadata": {},
   "outputs": [],
   "source": [
    "# Try another product\n",
    "test_product_id = 9  # Yoga Mat\n",
    "test_product = products_df[products_df['product_id'] == test_product_id].iloc[0]\n",
    "print(f\"Recommendations for {test_product['product_name']} (Category: {test_product['category']}):\\n\")\n",
    "\n",
    "recommendations = get_recommendations(test_product_id)\n",
    "recommendations"
   ]
  },
  {
   "cell_type": "markdown",
   "id": "96fd70a7",
   "metadata": {},
   "source": [
    "## 6. Save the Model for Production Use"
   ]
  },
  {
   "cell_type": "code",
   "execution_count": null,
   "id": "ca1c8d9a",
   "metadata": {},
   "outputs": [],
   "source": [
    "# Prepare the model to be saved\n",
    "# We'll save the TF-IDF matrix and the product dataframe\n",
    "model_data = (tfidf_matrix, products_df)\n",
    "\n",
    "# Create directory if it doesn't exist\n",
    "model_dir = '../ml_models'\n",
    "os.makedirs(model_dir, exist_ok=True)\n",
    "\n",
    "# Save the model using joblib\n",
    "model_path = os.path.join(model_dir, 'content_model.pkl')\n",
    "joblib.dump(model_data, model_path)\n",
    "print(f\"Model saved to {model_path}\")"
   ]
  },
  {
   "cell_type": "markdown",
   "id": "41a2c857",
   "metadata": {},
   "source": [
    "## 7. Test Loading the Model"
   ]
  },
  {
   "cell_type": "code",
   "execution_count": null,
   "id": "b91b70e7",
   "metadata": {},
   "outputs": [],
   "source": [
    "# Load the model from disk\n",
    "loaded_tfidf_matrix, loaded_products_df = joblib.load(model_path)\n",
    "\n",
    "# Verify the loaded data\n",
    "print(f\"Loaded TF-IDF matrix shape: {loaded_tfidf_matrix.shape}\")\n",
    "print(f\"Loaded products dataframe shape: {loaded_products_df.shape}\")\n",
    "\n",
    "# Make sure the shapes match\n",
    "assert tfidf_matrix.shape == loaded_tfidf_matrix.shape\n",
    "assert products_df.shape == loaded_products_df.shape\n",
    "\n",
    "print(\"Model successfully loaded and verified!\")"
   ]
  },
  {
   "cell_type": "markdown",
   "id": "5a79ed2e",
   "metadata": {},
   "source": [
    "## 8. Summary and Next Steps\n",
    "\n",
    "In this notebook, we have:\n",
    "1. Loaded and explored the product dataset\n",
    "2. Created TF-IDF vectors from product text data\n",
    "3. Calculated cosine similarity between products\n",
    "4. Built a recommendation function to suggest similar products\n",
    "5. Saved the model for use in production\n",
    "\n",
    "Next steps:\n",
    "- Integrate this model with the FastAPI application\n",
    "- Consider adding user interaction data for collaborative filtering\n",
    "- Implement A/B testing to evaluate recommendation quality\n",
    "- Add monitoring for recommendation performance"
   ]
  }
 ],
 "metadata": {
  "language_info": {
   "name": "python"
  }
 },
 "nbformat": 4,
 "nbformat_minor": 5
}
